{
 "cells": [
  {
   "cell_type": "markdown",
   "id": "0bd7b7fa",
   "metadata": {},
   "source": [
    "# Análisis de Viajes Compartidos"
   ]
  },
  {
   "cell_type": "markdown",
   "id": "3169eb2e",
   "metadata": {},
   "source": [
    "## Paso 4. Análisis exploratorio de datos (Python)\n",
    "\n",
    "Además de los datos que recuperaste en las tareas anteriores te han dado un segundo archivo. Ahora tienes estos dos CSV:\n",
    "\n",
    "/datasets/project_sql_result_01.csv. contiene los siguientes datos:\n",
    "\n",
    "company_name: nombre de la empresa de taxis\n",
    "\n",
    "trips_amount: el número de viajes de cada compañía de taxis el 15 y 16 de noviembre de 2017. \n",
    "\n",
    "/datasets/project_sql_result_04.csv. contiene los siguientes datos:\n",
    "\n",
    "dropoff_location_name: barrios de Chicago donde finalizaron los viajes\n",
    "\n",
    "average_trips: el promedio de viajes que terminaron en cada barrio en noviembre de 2017.\n",
    "\n",
    " Para estos dos datasets ahora necesitas\n",
    "\n",
    "* Importar los archivos\n",
    "* Estudiar los datos que contienen\n",
    "* Asegurarte de que los tipos de datos sean correctos\n",
    "* Identificar los 10 principales barrios en términos de finalización del    recorrido\n",
    "* Hacer gráficos: empresas de taxis y número de viajes, los 10 barrios principales por número de finalizaciones\n",
    "* Sacar conclusiones basadas en cada gráfico y explicar los resultados\n",
    "\n",
    "## Paso 5. Prueba de hipótesis (Python)\n",
    "\n",
    "/datasets/project_sql_result_07.csv — el resultado de la última consulta. Contiene datos sobre viajes desde el Loop hasta el Aeropuerto Internacional O'Hare. Recuerda, estos son los valores de campo de la tabla:\n",
    "\n",
    "start_ts: fecha y hora de la recogida\n",
    "weather_conditions: condiciones climáticas en el momento en el que comenzó el viaje\n",
    "duration_seconds: duración del viaje en segundos\n",
    "Prueba la hipótesis:\n",
    "\n",
    "\"La duración promedio de los viajes desde el Loop hasta el Aeropuerto Internacional O'Hare cambia los sábados lluviosos\".\n",
    "\n",
    "Decide por tu cuenta dónde establecer el nivel de significación (alfa).\n",
    "\n",
    "Explica:\n",
    "\n",
    "cómo planteaste las hipótesis nula y alternativa\n",
    "qué criterio usaste para probar las hipótesis y por qué\n",
    "¿Cómo será evaluado mi proyecto?\n",
    "Estos son los criterios de evaluación del proyecto. Léelos atentamente antes de empezar a trabajar."
   ]
  },
  {
   "cell_type": "markdown",
   "id": "8792bfc5",
   "metadata": {},
   "source": [
    "## Librerias"
   ]
  },
  {
   "cell_type": "code",
   "execution_count": 1,
   "id": "e931083b",
   "metadata": {},
   "outputs": [],
   "source": [
    "import pandas as pd\n",
    "import numpy as np\n",
    "import matplotlib.pyplot as plt\n",
    "from scipy import stats as st\n",
    "from scipy.stats import ttest_ind\n",
    "import seaborn as sns\n",
    "\n"
   ]
  },
  {
   "cell_type": "code",
   "execution_count": 2,
   "id": "9c9a0de7",
   "metadata": {},
   "outputs": [],
   "source": [
    "\n",
    "# Número de viajes de cada compañía de taxis el 15 y 16 de noviembre de 2017\n",
    "trips = pd.read_csv('https://practicum-content.s3.us-west-1.amazonaws.com/learning-materials/data-analyst-eng/moved_project_sql_result_01.csv')\n",
    "\n",
    "# Promedio de viajes que terminaron en cada barrio de Chicago en noviembre de 2017\n",
    "dropoff = pd.read_csv('https://practicum-content.s3.us-west-1.amazonaws.com/learning-materials/data-analyst-eng/moved_project_sql_result_04.csv')\n",
    "\n",
    "# Datos sobre viajes desde el Loop hasta el Aeropuerto Internacional O'Hare\n",
    "loop = pd.read_csv('https://practicum-content.s3.us-west-1.amazonaws.com/learning-materials/data-analyst-eng/moved_project_sql_result_07.csv') "
   ]
  },
  {
   "cell_type": "markdown",
   "id": "93f67333",
   "metadata": {},
   "source": [
    "## Preparar los Datos"
   ]
  },
  {
   "cell_type": "code",
   "execution_count": 3,
   "id": "5c2d6f28",
   "metadata": {},
   "outputs": [
    {
     "name": "stdout",
     "output_type": "stream",
     "text": [
      "<class 'pandas.core.frame.DataFrame'>\n",
      "RangeIndex: 64 entries, 0 to 63\n",
      "Data columns (total 2 columns):\n",
      " #   Column        Non-Null Count  Dtype \n",
      "---  ------        --------------  ----- \n",
      " 0   company_name  64 non-null     object\n",
      " 1   trips_amount  64 non-null     int64 \n",
      "dtypes: int64(1), object(1)\n",
      "memory usage: 1.1+ KB\n"
     ]
    }
   ],
   "source": [
    "trips.info()"
   ]
  },
  {
   "cell_type": "code",
   "execution_count": 4,
   "id": "c36a70f9",
   "metadata": {},
   "outputs": [
    {
     "data": {
      "text/html": [
       "<div>\n",
       "<style scoped>\n",
       "    .dataframe tbody tr th:only-of-type {\n",
       "        vertical-align: middle;\n",
       "    }\n",
       "\n",
       "    .dataframe tbody tr th {\n",
       "        vertical-align: top;\n",
       "    }\n",
       "\n",
       "    .dataframe thead th {\n",
       "        text-align: right;\n",
       "    }\n",
       "</style>\n",
       "<table border=\"1\" class=\"dataframe\">\n",
       "  <thead>\n",
       "    <tr style=\"text-align: right;\">\n",
       "      <th></th>\n",
       "      <th>company_name</th>\n",
       "      <th>trips_amount</th>\n",
       "    </tr>\n",
       "  </thead>\n",
       "  <tbody>\n",
       "    <tr>\n",
       "      <th>0</th>\n",
       "      <td>Flash Cab</td>\n",
       "      <td>19558</td>\n",
       "    </tr>\n",
       "    <tr>\n",
       "      <th>1</th>\n",
       "      <td>Taxi Affiliation Services</td>\n",
       "      <td>11422</td>\n",
       "    </tr>\n",
       "    <tr>\n",
       "      <th>2</th>\n",
       "      <td>Medallion Leasin</td>\n",
       "      <td>10367</td>\n",
       "    </tr>\n",
       "    <tr>\n",
       "      <th>3</th>\n",
       "      <td>Yellow Cab</td>\n",
       "      <td>9888</td>\n",
       "    </tr>\n",
       "    <tr>\n",
       "      <th>4</th>\n",
       "      <td>Taxi Affiliation Service Yellow</td>\n",
       "      <td>9299</td>\n",
       "    </tr>\n",
       "  </tbody>\n",
       "</table>\n",
       "</div>"
      ],
      "text/plain": [
       "                      company_name  trips_amount\n",
       "0                        Flash Cab         19558\n",
       "1        Taxi Affiliation Services         11422\n",
       "2                 Medallion Leasin         10367\n",
       "3                       Yellow Cab          9888\n",
       "4  Taxi Affiliation Service Yellow          9299"
      ]
     },
     "execution_count": 4,
     "metadata": {},
     "output_type": "execute_result"
    }
   ],
   "source": [
    "trips.head()"
   ]
  },
  {
   "cell_type": "code",
   "execution_count": 5,
   "id": "2f674257",
   "metadata": {},
   "outputs": [
    {
     "name": "stdout",
     "output_type": "stream",
     "text": [
      "<class 'pandas.core.frame.DataFrame'>\n",
      "RangeIndex: 94 entries, 0 to 93\n",
      "Data columns (total 2 columns):\n",
      " #   Column                 Non-Null Count  Dtype  \n",
      "---  ------                 --------------  -----  \n",
      " 0   dropoff_location_name  94 non-null     object \n",
      " 1   average_trips          94 non-null     float64\n",
      "dtypes: float64(1), object(1)\n",
      "memory usage: 1.6+ KB\n"
     ]
    }
   ],
   "source": [
    "dropoff.info()"
   ]
  },
  {
   "cell_type": "code",
   "execution_count": 6,
   "id": "c5100911",
   "metadata": {},
   "outputs": [
    {
     "data": {
      "text/html": [
       "<div>\n",
       "<style scoped>\n",
       "    .dataframe tbody tr th:only-of-type {\n",
       "        vertical-align: middle;\n",
       "    }\n",
       "\n",
       "    .dataframe tbody tr th {\n",
       "        vertical-align: top;\n",
       "    }\n",
       "\n",
       "    .dataframe thead th {\n",
       "        text-align: right;\n",
       "    }\n",
       "</style>\n",
       "<table border=\"1\" class=\"dataframe\">\n",
       "  <thead>\n",
       "    <tr style=\"text-align: right;\">\n",
       "      <th></th>\n",
       "      <th>dropoff_location_name</th>\n",
       "      <th>average_trips</th>\n",
       "    </tr>\n",
       "  </thead>\n",
       "  <tbody>\n",
       "    <tr>\n",
       "      <th>0</th>\n",
       "      <td>Loop</td>\n",
       "      <td>10727.466667</td>\n",
       "    </tr>\n",
       "    <tr>\n",
       "      <th>1</th>\n",
       "      <td>River North</td>\n",
       "      <td>9523.666667</td>\n",
       "    </tr>\n",
       "    <tr>\n",
       "      <th>2</th>\n",
       "      <td>Streeterville</td>\n",
       "      <td>6664.666667</td>\n",
       "    </tr>\n",
       "    <tr>\n",
       "      <th>3</th>\n",
       "      <td>West Loop</td>\n",
       "      <td>5163.666667</td>\n",
       "    </tr>\n",
       "    <tr>\n",
       "      <th>4</th>\n",
       "      <td>O'Hare</td>\n",
       "      <td>2546.900000</td>\n",
       "    </tr>\n",
       "  </tbody>\n",
       "</table>\n",
       "</div>"
      ],
      "text/plain": [
       "  dropoff_location_name  average_trips\n",
       "0                  Loop   10727.466667\n",
       "1           River North    9523.666667\n",
       "2         Streeterville    6664.666667\n",
       "3             West Loop    5163.666667\n",
       "4                O'Hare    2546.900000"
      ]
     },
     "execution_count": 6,
     "metadata": {},
     "output_type": "execute_result"
    }
   ],
   "source": [
    "dropoff.head()"
   ]
  },
  {
   "cell_type": "code",
   "execution_count": 7,
   "id": "5aac5136",
   "metadata": {},
   "outputs": [
    {
     "name": "stdout",
     "output_type": "stream",
     "text": [
      "<class 'pandas.core.frame.DataFrame'>\n",
      "RangeIndex: 1068 entries, 0 to 1067\n",
      "Data columns (total 3 columns):\n",
      " #   Column              Non-Null Count  Dtype  \n",
      "---  ------              --------------  -----  \n",
      " 0   start_ts            1068 non-null   object \n",
      " 1   weather_conditions  1068 non-null   object \n",
      " 2   duration_seconds    1068 non-null   float64\n",
      "dtypes: float64(1), object(2)\n",
      "memory usage: 25.2+ KB\n"
     ]
    }
   ],
   "source": [
    "loop.info()"
   ]
  },
  {
   "cell_type": "code",
   "execution_count": 8,
   "id": "d3e523fb",
   "metadata": {},
   "outputs": [
    {
     "data": {
      "text/html": [
       "<div>\n",
       "<style scoped>\n",
       "    .dataframe tbody tr th:only-of-type {\n",
       "        vertical-align: middle;\n",
       "    }\n",
       "\n",
       "    .dataframe tbody tr th {\n",
       "        vertical-align: top;\n",
       "    }\n",
       "\n",
       "    .dataframe thead th {\n",
       "        text-align: right;\n",
       "    }\n",
       "</style>\n",
       "<table border=\"1\" class=\"dataframe\">\n",
       "  <thead>\n",
       "    <tr style=\"text-align: right;\">\n",
       "      <th></th>\n",
       "      <th>start_ts</th>\n",
       "      <th>weather_conditions</th>\n",
       "      <th>duration_seconds</th>\n",
       "    </tr>\n",
       "  </thead>\n",
       "  <tbody>\n",
       "    <tr>\n",
       "      <th>0</th>\n",
       "      <td>2017-11-25 16:00:00</td>\n",
       "      <td>Good</td>\n",
       "      <td>2410.0</td>\n",
       "    </tr>\n",
       "    <tr>\n",
       "      <th>1</th>\n",
       "      <td>2017-11-25 14:00:00</td>\n",
       "      <td>Good</td>\n",
       "      <td>1920.0</td>\n",
       "    </tr>\n",
       "    <tr>\n",
       "      <th>2</th>\n",
       "      <td>2017-11-25 12:00:00</td>\n",
       "      <td>Good</td>\n",
       "      <td>1543.0</td>\n",
       "    </tr>\n",
       "    <tr>\n",
       "      <th>3</th>\n",
       "      <td>2017-11-04 10:00:00</td>\n",
       "      <td>Good</td>\n",
       "      <td>2512.0</td>\n",
       "    </tr>\n",
       "    <tr>\n",
       "      <th>4</th>\n",
       "      <td>2017-11-11 07:00:00</td>\n",
       "      <td>Good</td>\n",
       "      <td>1440.0</td>\n",
       "    </tr>\n",
       "  </tbody>\n",
       "</table>\n",
       "</div>"
      ],
      "text/plain": [
       "              start_ts weather_conditions  duration_seconds\n",
       "0  2017-11-25 16:00:00               Good            2410.0\n",
       "1  2017-11-25 14:00:00               Good            1920.0\n",
       "2  2017-11-25 12:00:00               Good            1543.0\n",
       "3  2017-11-04 10:00:00               Good            2512.0\n",
       "4  2017-11-11 07:00:00               Good            1440.0"
      ]
     },
     "execution_count": 8,
     "metadata": {},
     "output_type": "execute_result"
    }
   ],
   "source": [
    "loop.head()"
   ]
  },
  {
   "cell_type": "markdown",
   "id": "e1b03011",
   "metadata": {},
   "source": [
    "tenemos que la columna 'start_ts' es de tipo objetivo se cambia al tipo date"
   ]
  },
  {
   "cell_type": "code",
   "execution_count": 9,
   "id": "3c68bbc7",
   "metadata": {},
   "outputs": [],
   "source": [
    "loop['start_ts']=pd.to_datetime(loop['start_ts'], format='%Y-%m-%d %H:%M:%S')"
   ]
  },
  {
   "cell_type": "code",
   "execution_count": 10,
   "id": "b5ce5d32",
   "metadata": {},
   "outputs": [
    {
     "name": "stdout",
     "output_type": "stream",
     "text": [
      "<class 'pandas.core.frame.DataFrame'>\n",
      "RangeIndex: 1068 entries, 0 to 1067\n",
      "Data columns (total 3 columns):\n",
      " #   Column              Non-Null Count  Dtype         \n",
      "---  ------              --------------  -----         \n",
      " 0   start_ts            1068 non-null   datetime64[ns]\n",
      " 1   weather_conditions  1068 non-null   object        \n",
      " 2   duration_seconds    1068 non-null   float64       \n",
      "dtypes: datetime64[ns](1), float64(1), object(1)\n",
      "memory usage: 25.2+ KB\n"
     ]
    }
   ],
   "source": [
    "loop.info()"
   ]
  },
  {
   "cell_type": "markdown",
   "id": "81cf0631",
   "metadata": {},
   "source": [
    "## Verificar Datos Duplicados"
   ]
  },
  {
   "cell_type": "code",
   "execution_count": 11,
   "id": "5b5913c1",
   "metadata": {},
   "outputs": [
    {
     "data": {
      "text/plain": [
       "0"
      ]
     },
     "execution_count": 11,
     "metadata": {},
     "output_type": "execute_result"
    }
   ],
   "source": [
    "trips.duplicated().sum()"
   ]
  },
  {
   "cell_type": "code",
   "execution_count": 12,
   "id": "72062795",
   "metadata": {},
   "outputs": [
    {
     "data": {
      "text/plain": [
       "0"
      ]
     },
     "execution_count": 12,
     "metadata": {},
     "output_type": "execute_result"
    }
   ],
   "source": [
    "dropoff.duplicated().sum()"
   ]
  },
  {
   "cell_type": "code",
   "execution_count": 13,
   "id": "fe7e557d",
   "metadata": {},
   "outputs": [
    {
     "data": {
      "text/plain": [
       "197"
      ]
     },
     "execution_count": 13,
     "metadata": {},
     "output_type": "execute_result"
    }
   ],
   "source": [
    "loop.duplicated().sum()"
   ]
  },
  {
   "cell_type": "code",
   "execution_count": 14,
   "id": "7108bba6",
   "metadata": {},
   "outputs": [
    {
     "data": {
      "text/html": [
       "<div>\n",
       "<style scoped>\n",
       "    .dataframe tbody tr th:only-of-type {\n",
       "        vertical-align: middle;\n",
       "    }\n",
       "\n",
       "    .dataframe tbody tr th {\n",
       "        vertical-align: top;\n",
       "    }\n",
       "\n",
       "    .dataframe thead th {\n",
       "        text-align: right;\n",
       "    }\n",
       "</style>\n",
       "<table border=\"1\" class=\"dataframe\">\n",
       "  <thead>\n",
       "    <tr style=\"text-align: right;\">\n",
       "      <th></th>\n",
       "      <th>start_ts</th>\n",
       "      <th>weather_conditions</th>\n",
       "      <th>duration_seconds</th>\n",
       "    </tr>\n",
       "  </thead>\n",
       "  <tbody>\n",
       "    <tr>\n",
       "      <th>62</th>\n",
       "      <td>2017-11-11 06:00:00</td>\n",
       "      <td>Good</td>\n",
       "      <td>1260.0</td>\n",
       "    </tr>\n",
       "    <tr>\n",
       "      <th>74</th>\n",
       "      <td>2017-11-11 08:00:00</td>\n",
       "      <td>Good</td>\n",
       "      <td>1380.0</td>\n",
       "    </tr>\n",
       "    <tr>\n",
       "      <th>76</th>\n",
       "      <td>2017-11-04 09:00:00</td>\n",
       "      <td>Good</td>\n",
       "      <td>1380.0</td>\n",
       "    </tr>\n",
       "    <tr>\n",
       "      <th>117</th>\n",
       "      <td>2017-11-11 07:00:00</td>\n",
       "      <td>Good</td>\n",
       "      <td>1380.0</td>\n",
       "    </tr>\n",
       "    <tr>\n",
       "      <th>119</th>\n",
       "      <td>2017-11-04 14:00:00</td>\n",
       "      <td>Good</td>\n",
       "      <td>3300.0</td>\n",
       "    </tr>\n",
       "  </tbody>\n",
       "</table>\n",
       "</div>"
      ],
      "text/plain": [
       "               start_ts weather_conditions  duration_seconds\n",
       "62  2017-11-11 06:00:00               Good            1260.0\n",
       "74  2017-11-11 08:00:00               Good            1380.0\n",
       "76  2017-11-04 09:00:00               Good            1380.0\n",
       "117 2017-11-11 07:00:00               Good            1380.0\n",
       "119 2017-11-04 14:00:00               Good            3300.0"
      ]
     },
     "execution_count": 14,
     "metadata": {},
     "output_type": "execute_result"
    }
   ],
   "source": [
    "loop[loop.duplicated()].head()"
   ]
  },
  {
   "cell_type": "code",
   "execution_count": 15,
   "id": "8ae0435e",
   "metadata": {},
   "outputs": [],
   "source": [
    "loop=loop.drop_duplicates()"
   ]
  },
  {
   "cell_type": "code",
   "execution_count": 16,
   "id": "881da494",
   "metadata": {},
   "outputs": [
    {
     "name": "stdout",
     "output_type": "stream",
     "text": [
      "<class 'pandas.core.frame.DataFrame'>\n",
      "Int64Index: 871 entries, 0 to 1067\n",
      "Data columns (total 3 columns):\n",
      " #   Column              Non-Null Count  Dtype         \n",
      "---  ------              --------------  -----         \n",
      " 0   start_ts            871 non-null    datetime64[ns]\n",
      " 1   weather_conditions  871 non-null    object        \n",
      " 2   duration_seconds    871 non-null    float64       \n",
      "dtypes: datetime64[ns](1), float64(1), object(1)\n",
      "memory usage: 27.2+ KB\n"
     ]
    }
   ],
   "source": [
    "loop.info()"
   ]
  },
  {
   "cell_type": "markdown",
   "id": "f62f668a",
   "metadata": {},
   "source": [
    "Se eliminan datos duplicados los 197 filas duplicadas quedando 871."
   ]
  },
  {
   "cell_type": "markdown",
   "id": "900de487",
   "metadata": {},
   "source": [
    "### Análisis exploratorio de datos:"
   ]
  },
  {
   "cell_type": "code",
   "execution_count": 17,
   "id": "c4d78d36",
   "metadata": {},
   "outputs": [
    {
     "name": "stdout",
     "output_type": "stream",
     "text": [
      "14533708.952132937\n",
      "La moda del número de viajes es: 14 y 29\n"
     ]
    }
   ],
   "source": [
    "trips.describe()\n",
    "print(trips['trips_amount'].var())\n",
    "print('La moda del número de viajes es:', trips['trips_amount'].mode()[0], 'y', trips['trips_amount'].mode()[1])\n"
   ]
  },
  {
   "cell_type": "code",
   "execution_count": 18,
   "id": "fc1b5bb6",
   "metadata": {},
   "outputs": [
    {
     "data": {
      "image/png": "[encoded data removed]",
      "text/plain": [
       "<Figure size 1008x576 with 1 Axes>"
      ]
     },
     "metadata": {
      "needs_background": "light"
     },
     "output_type": "display_data"
    }
   ],
   "source": [
    "trips['trips_amount'].plot(kind='hist',bins= 30, color= 'red',figsize= [14,8])\n",
    "plt.title('Histograma Cantidad de viajes ') \n",
    "plt.ylabel('Frecuencia') \n",
    "plt.xlabel('Cantidad de viajes')\n",
    "plt.show()"
   ]
  },
  {
   "cell_type": "markdown",
   "id": "e987147e",
   "metadata": {},
   "source": [
    "Promedio y Desviación Estándar: El promedio de viajes por compañía es aproximadamente 2145, con una desviación estándar alta de alrededor de 3812. Esto indica una variabilidad considerable en la cantidad de viajes entre las diferentes compañías.\n",
    "\n",
    "Rango de Datos: Los datos varían desde un mínimo de 2 viajes hasta un máximo de 19558 viajes, lo que muestra una amplia gama de valores.\n",
    "\n",
    "Mediana: La mediana, que es el valor que divide el conjunto de datos en dos partes iguales, se sitúa en 178.5. Esto sugiere que la mitad de las compañías realizan menos de este número de viajes y la otra mitad realiza más.\n",
    "\n",
    "Varianza y Sesgo: La varianza grande para la cantidad de viajes de cada compañía indica que los datos están dispersos alrededor de la media, posiblemente debido a la presencia de valores atípicos. La distribución de los datos muestra un sesgo hacia la derecha, ya que la media es significativamente mayor que la mediana.\n",
    "\n",
    "Moda: Los números de viajes más frecuentes son 14 y 29, lo que indica los valores más comunes en el conjunto de datos.\n"
   ]
  },
  {
   "cell_type": "code",
   "execution_count": 19,
   "id": "d25b69fd",
   "metadata": {},
   "outputs": [
    {
     "name": "stdout",
     "output_type": "stream",
     "text": [
      "2939822.6331400108\n"
     ]
    },
    {
     "data": {
      "text/html": [
       "<div>\n",
       "<style scoped>\n",
       "    .dataframe tbody tr th:only-of-type {\n",
       "        vertical-align: middle;\n",
       "    }\n",
       "\n",
       "    .dataframe tbody tr th {\n",
       "        vertical-align: top;\n",
       "    }\n",
       "\n",
       "    .dataframe thead th {\n",
       "        text-align: right;\n",
       "    }\n",
       "</style>\n",
       "<table border=\"1\" class=\"dataframe\">\n",
       "  <thead>\n",
       "    <tr style=\"text-align: right;\">\n",
       "      <th></th>\n",
       "      <th>average_trips</th>\n",
       "    </tr>\n",
       "  </thead>\n",
       "  <tbody>\n",
       "    <tr>\n",
       "      <th>count</th>\n",
       "      <td>94.000000</td>\n",
       "    </tr>\n",
       "    <tr>\n",
       "      <th>mean</th>\n",
       "      <td>599.953728</td>\n",
       "    </tr>\n",
       "    <tr>\n",
       "      <th>std</th>\n",
       "      <td>1714.591098</td>\n",
       "    </tr>\n",
       "    <tr>\n",
       "      <th>min</th>\n",
       "      <td>1.800000</td>\n",
       "    </tr>\n",
       "    <tr>\n",
       "      <th>25%</th>\n",
       "      <td>14.266667</td>\n",
       "    </tr>\n",
       "    <tr>\n",
       "      <th>50%</th>\n",
       "      <td>52.016667</td>\n",
       "    </tr>\n",
       "    <tr>\n",
       "      <th>75%</th>\n",
       "      <td>298.858333</td>\n",
       "    </tr>\n",
       "    <tr>\n",
       "      <th>max</th>\n",
       "      <td>10727.466667</td>\n",
       "    </tr>\n",
       "  </tbody>\n",
       "</table>\n",
       "</div>"
      ],
      "text/plain": [
       "       average_trips\n",
       "count      94.000000\n",
       "mean      599.953728\n",
       "std      1714.591098\n",
       "min         1.800000\n",
       "25%        14.266667\n",
       "50%        52.016667\n",
       "75%       298.858333\n",
       "max     10727.466667"
      ]
     },
     "execution_count": 19,
     "metadata": {},
     "output_type": "execute_result"
    }
   ],
   "source": [
    "print(dropoff['average_trips'].var())\n",
    "dropoff.describe()"
   ]
  },
  {
   "cell_type": "code",
   "execution_count": 20,
   "id": "deee834e",
   "metadata": {
    "scrolled": true
   },
   "outputs": [
    {
     "data": {
      "image/png": "[encoded data removed]",
      "text/plain": [
       "<Figure size 1008x576 with 1 Axes>"
      ]
     },
     "metadata": {
      "needs_background": "light"
     },
     "output_type": "display_data"
    }
   ],
   "source": [
    "dropoff['average_trips'].plot(kind='hist',bins= 30, color= 'blue',figsize= [14,8])\n",
    "plt.title('Histograma Cantidad de viajes ') \n",
    "plt.ylabel('Frecuencia') \n",
    "plt.xlabel('Cantidad de viajes')\n",
    "plt.show()"
   ]
  },
  {
   "cell_type": "markdown",
   "id": "315ccd3e",
   "metadata": {},
   "source": [
    "Promedio y Desviación Estándar: El promedio de viajes es de alrededor de 599.95, con una desviación estándar significativa de aproximadamente 1714. Esto indica una amplia variabilidad en la cantidad de viajes entre los diferentes barrios.\n",
    "\n",
    "Rango de Datos: Los datos oscilan desde un mínimo de 1.8 viajes hasta un máximo de 10727.47, lo que muestra una amplia gama de valores.\n",
    "\n",
    "Mediana: La mediana se sitúa en 52.02, lo que indica que la mitad de los barrios tienen un promedio de viajes menor que este valor y la otra mitad tiene un promedio mayor.\n",
    "\n",
    "Varianza y Sesgo: La varianza es muy grande (2939822.6) para el promedio de viajes que terminaron en cada barrio de Chicago, lo que indica que los datos están dispersos alrededor de la media. Esto sugiere la presencia de valores atípicos. La distribución de los datos muestra un sesgo hacia la derecha, ya que la media es significativamente mayor que la mediana."
   ]
  },
  {
   "cell_type": "code",
   "execution_count": 21,
   "id": "5232045a",
   "metadata": {},
   "outputs": [
    {
     "name": "stdout",
     "output_type": "stream",
     "text": [
      "611953.7332435963\n",
      "La moda para la duración del viaje es: 1260.0\n"
     ]
    },
    {
     "data": {
      "text/html": [
       "<div>\n",
       "<style scoped>\n",
       "    .dataframe tbody tr th:only-of-type {\n",
       "        vertical-align: middle;\n",
       "    }\n",
       "\n",
       "    .dataframe tbody tr th {\n",
       "        vertical-align: top;\n",
       "    }\n",
       "\n",
       "    .dataframe thead th {\n",
       "        text-align: right;\n",
       "    }\n",
       "</style>\n",
       "<table border=\"1\" class=\"dataframe\">\n",
       "  <thead>\n",
       "    <tr style=\"text-align: right;\">\n",
       "      <th></th>\n",
       "      <th>duration_seconds</th>\n",
       "    </tr>\n",
       "  </thead>\n",
       "  <tbody>\n",
       "    <tr>\n",
       "      <th>count</th>\n",
       "      <td>871.000000</td>\n",
       "    </tr>\n",
       "    <tr>\n",
       "      <th>mean</th>\n",
       "      <td>2096.308840</td>\n",
       "    </tr>\n",
       "    <tr>\n",
       "      <th>std</th>\n",
       "      <td>782.274717</td>\n",
       "    </tr>\n",
       "    <tr>\n",
       "      <th>min</th>\n",
       "      <td>0.000000</td>\n",
       "    </tr>\n",
       "    <tr>\n",
       "      <th>25%</th>\n",
       "      <td>1440.000000</td>\n",
       "    </tr>\n",
       "    <tr>\n",
       "      <th>50%</th>\n",
       "      <td>2015.000000</td>\n",
       "    </tr>\n",
       "    <tr>\n",
       "      <th>75%</th>\n",
       "      <td>2584.000000</td>\n",
       "    </tr>\n",
       "    <tr>\n",
       "      <th>max</th>\n",
       "      <td>7440.000000</td>\n",
       "    </tr>\n",
       "  </tbody>\n",
       "</table>\n",
       "</div>"
      ],
      "text/plain": [
       "       duration_seconds\n",
       "count        871.000000\n",
       "mean        2096.308840\n",
       "std          782.274717\n",
       "min            0.000000\n",
       "25%         1440.000000\n",
       "50%         2015.000000\n",
       "75%         2584.000000\n",
       "max         7440.000000"
      ]
     },
     "execution_count": 21,
     "metadata": {},
     "output_type": "execute_result"
    }
   ],
   "source": [
    "print(loop['duration_seconds'].var())\n",
    "print('La moda para la duración del viaje es:', loop['duration_seconds'].mode()[0])\n",
    "loop.describe()"
   ]
  },
  {
   "cell_type": "code",
   "execution_count": 22,
   "id": "fe3f5614",
   "metadata": {},
   "outputs": [
    {
     "data": {
      "image/png": "[encoded data removed]",
      "text/plain": [
       "<Figure size 1008x576 with 1 Axes>"
      ]
     },
     "metadata": {
      "needs_background": "light"
     },
     "output_type": "display_data"
    }
   ],
   "source": [
    "loop['duration_seconds'].plot(kind='hist',bins= 30, color= 'green',figsize= [14,8])\n",
    "plt.title('Histograma Cantidad de viajes ') \n",
    "plt.ylabel('Frecuencia') \n",
    "plt.xlabel('Cantidad de viajes')\n",
    "plt.show()"
   ]
  },
  {
   "cell_type": "markdown",
   "id": "e25c64cc",
   "metadata": {},
   "source": [
    "Promedio y Desviación Estándar: La duración promedio del viaje es de alrededor de 2071.73 segundos, con una desviación estándar moderada de aproximadamente 769.46. Esto indica una variabilidad moderada en la duración de los viajes.\n",
    "\n",
    "Rango de Datos: Los tiempos de viaje varían desde 0 segundos hasta 7440 segundos, mostrando una amplia gama de valores.\n",
    "\n",
    "Mediana: La mediana se sitúa en 1980 segundos, lo que sugiere que la mitad de los viajes tienen una duración menor que este valor y la otra mitad tiene una duración mayor. Esto indica una distribución relativamente uniforme de los tiempos de viaje en el conjunto de datos.\n",
    "\n",
    "Varianza y Sesgo: La varianza es grande (611953.7) y la desviación estándar es de 769.46, lo cual indica que los datos están relativamente dispersos alrededor de la media. Esto puede sugerir la presencia de valores atípicos. La comparación entre la media y la mediana muestra que los valores son cercanos, pero el rango de valores extremos (0 y 7440) indica la posible presencia de datos atípicos.\n",
    "\n",
    "Distribución de Datos: La distribución de los datos no es normal, ya que hay valores muy bajos y valores muy altos que afectan la media. Esto se puede observar en el histograma.\n",
    "\n",
    "Moda: El valor de duración del viaje más frecuente es de 1260 segundos."
   ]
  },
  {
   "cell_type": "markdown",
   "id": "bdd1ab54",
   "metadata": {},
   "source": [
    "\n",
    "## Las 10  empresas de taxis y  barrios por número de finalizaciones"
   ]
  },
  {
   "cell_type": "code",
   "execution_count": 23,
   "id": "52622924",
   "metadata": {},
   "outputs": [
    {
     "data": {
      "text/html": [
       "<div>\n",
       "<style scoped>\n",
       "    .dataframe tbody tr th:only-of-type {\n",
       "        vertical-align: middle;\n",
       "    }\n",
       "\n",
       "    .dataframe tbody tr th {\n",
       "        vertical-align: top;\n",
       "    }\n",
       "\n",
       "    .dataframe thead th {\n",
       "        text-align: right;\n",
       "    }\n",
       "</style>\n",
       "<table border=\"1\" class=\"dataframe\">\n",
       "  <thead>\n",
       "    <tr style=\"text-align: right;\">\n",
       "      <th></th>\n",
       "      <th>dropoff_location_name</th>\n",
       "      <th>average_trips</th>\n",
       "    </tr>\n",
       "  </thead>\n",
       "  <tbody>\n",
       "    <tr>\n",
       "      <th>0</th>\n",
       "      <td>Loop</td>\n",
       "      <td>10727.466667</td>\n",
       "    </tr>\n",
       "    <tr>\n",
       "      <th>1</th>\n",
       "      <td>River North</td>\n",
       "      <td>9523.666667</td>\n",
       "    </tr>\n",
       "    <tr>\n",
       "      <th>2</th>\n",
       "      <td>Streeterville</td>\n",
       "      <td>6664.666667</td>\n",
       "    </tr>\n",
       "    <tr>\n",
       "      <th>3</th>\n",
       "      <td>West Loop</td>\n",
       "      <td>5163.666667</td>\n",
       "    </tr>\n",
       "    <tr>\n",
       "      <th>4</th>\n",
       "      <td>O'Hare</td>\n",
       "      <td>2546.900000</td>\n",
       "    </tr>\n",
       "    <tr>\n",
       "      <th>5</th>\n",
       "      <td>Lake View</td>\n",
       "      <td>2420.966667</td>\n",
       "    </tr>\n",
       "    <tr>\n",
       "      <th>6</th>\n",
       "      <td>Grant Park</td>\n",
       "      <td>2068.533333</td>\n",
       "    </tr>\n",
       "    <tr>\n",
       "      <th>7</th>\n",
       "      <td>Museum Campus</td>\n",
       "      <td>1510.000000</td>\n",
       "    </tr>\n",
       "    <tr>\n",
       "      <th>8</th>\n",
       "      <td>Gold Coast</td>\n",
       "      <td>1364.233333</td>\n",
       "    </tr>\n",
       "    <tr>\n",
       "      <th>9</th>\n",
       "      <td>Sheffield &amp; DePaul</td>\n",
       "      <td>1259.766667</td>\n",
       "    </tr>\n",
       "  </tbody>\n",
       "</table>\n",
       "</div>"
      ],
      "text/plain": [
       "  dropoff_location_name  average_trips\n",
       "0                  Loop   10727.466667\n",
       "1           River North    9523.666667\n",
       "2         Streeterville    6664.666667\n",
       "3             West Loop    5163.666667\n",
       "4                O'Hare    2546.900000\n",
       "5             Lake View    2420.966667\n",
       "6            Grant Park    2068.533333\n",
       "7         Museum Campus    1510.000000\n",
       "8            Gold Coast    1364.233333\n",
       "9    Sheffield & DePaul    1259.766667"
      ]
     },
     "execution_count": 23,
     "metadata": {},
     "output_type": "execute_result"
    }
   ],
   "source": [
    "top10_barrios=dropoff.sort_values(by='average_trips', ascending=False).head(10)\n",
    "top10_barrios"
   ]
  },
  {
   "cell_type": "code",
   "execution_count": 24,
   "id": "c6bb697c",
   "metadata": {},
   "outputs": [
    {
     "data": {
      "image/png": "[encoded data removed]",
      "text/plain": [
       "<Figure size 864x432 with 1 Axes>"
      ]
     },
     "metadata": {
      "needs_background": "light"
     },
     "output_type": "display_data"
    }
   ],
   "source": [
    "top10_barrios.plot(x= 'dropoff_location_name',y= 'average_trips',kind= 'bar',figsize= [12,6],color= 'blue',legend= False,rot= 45)\n",
    "plt.title('Top 10 de los barrios y sus Viajes Promedio')\n",
    "plt.xlabel('Nombre del barrio')\n",
    "plt.ylabel('Promedio de Viajes')\n",
    "                       \n",
    "plt.show()"
   ]
  },
  {
   "cell_type": "markdown",
   "id": "eccca4fc",
   "metadata": {},
   "source": [
    "Dado que el promedio de viajes que terminaron principalmente en dos barrios de Chicago, Loop y River North, es alto, podemos inferir que Flash Cab y Taxi Affiliation Services probablemente realizaron la mayoría de sus viajes a estos barrios. Esto sugiere que estas compañías pueden tener una presencia significativa en estas áreas y podrían ser las opciones preferidas para los residentes o visitantes que viajan a esos destinos.\n"
   ]
  },
  {
   "cell_type": "code",
   "execution_count": 25,
   "id": "6bf7263c",
   "metadata": {},
   "outputs": [
    {
     "data": {
      "text/html": [
       "<div>\n",
       "<style scoped>\n",
       "    .dataframe tbody tr th:only-of-type {\n",
       "        vertical-align: middle;\n",
       "    }\n",
       "\n",
       "    .dataframe tbody tr th {\n",
       "        vertical-align: top;\n",
       "    }\n",
       "\n",
       "    .dataframe thead th {\n",
       "        text-align: right;\n",
       "    }\n",
       "</style>\n",
       "<table border=\"1\" class=\"dataframe\">\n",
       "  <thead>\n",
       "    <tr style=\"text-align: right;\">\n",
       "      <th></th>\n",
       "      <th>company_name</th>\n",
       "      <th>trips_amount</th>\n",
       "    </tr>\n",
       "  </thead>\n",
       "  <tbody>\n",
       "    <tr>\n",
       "      <th>0</th>\n",
       "      <td>Flash Cab</td>\n",
       "      <td>19558</td>\n",
       "    </tr>\n",
       "    <tr>\n",
       "      <th>1</th>\n",
       "      <td>Taxi Affiliation Services</td>\n",
       "      <td>11422</td>\n",
       "    </tr>\n",
       "    <tr>\n",
       "      <th>2</th>\n",
       "      <td>Medallion Leasin</td>\n",
       "      <td>10367</td>\n",
       "    </tr>\n",
       "    <tr>\n",
       "      <th>3</th>\n",
       "      <td>Yellow Cab</td>\n",
       "      <td>9888</td>\n",
       "    </tr>\n",
       "    <tr>\n",
       "      <th>4</th>\n",
       "      <td>Taxi Affiliation Service Yellow</td>\n",
       "      <td>9299</td>\n",
       "    </tr>\n",
       "    <tr>\n",
       "      <th>5</th>\n",
       "      <td>Chicago Carriage Cab Corp</td>\n",
       "      <td>9181</td>\n",
       "    </tr>\n",
       "    <tr>\n",
       "      <th>6</th>\n",
       "      <td>City Service</td>\n",
       "      <td>8448</td>\n",
       "    </tr>\n",
       "    <tr>\n",
       "      <th>7</th>\n",
       "      <td>Sun Taxi</td>\n",
       "      <td>7701</td>\n",
       "    </tr>\n",
       "    <tr>\n",
       "      <th>8</th>\n",
       "      <td>Star North Management LLC</td>\n",
       "      <td>7455</td>\n",
       "    </tr>\n",
       "    <tr>\n",
       "      <th>9</th>\n",
       "      <td>Blue Ribbon Taxi Association Inc.</td>\n",
       "      <td>5953</td>\n",
       "    </tr>\n",
       "  </tbody>\n",
       "</table>\n",
       "</div>"
      ],
      "text/plain": [
       "                        company_name  trips_amount\n",
       "0                          Flash Cab         19558\n",
       "1          Taxi Affiliation Services         11422\n",
       "2                   Medallion Leasin         10367\n",
       "3                         Yellow Cab          9888\n",
       "4    Taxi Affiliation Service Yellow          9299\n",
       "5          Chicago Carriage Cab Corp          9181\n",
       "6                       City Service          8448\n",
       "7                           Sun Taxi          7701\n",
       "8          Star North Management LLC          7455\n",
       "9  Blue Ribbon Taxi Association Inc.          5953"
      ]
     },
     "execution_count": 25,
     "metadata": {},
     "output_type": "execute_result"
    }
   ],
   "source": [
    "top10_companies=trips.sort_values(by='trips_amount',ascending=False).head(10)\n",
    "top10_companies"
   ]
  },
  {
   "cell_type": "code",
   "execution_count": 26,
   "id": "a3f400bf",
   "metadata": {},
   "outputs": [
    {
     "data": {
      "image/png": "[encoded data removed]",
      "text/plain": [
       "<Figure size 720x432 with 1 Axes>"
      ]
     },
     "metadata": {
      "needs_background": "light"
     },
     "output_type": "display_data"
    }
   ],
   "source": [
    "plt.figure(figsize=(10, 6))\n",
    "sns.barplot(data=top10_companies, x='trips_amount', y='company_name', palette='Set1')\n",
    "plt.title('Empresas de Taxis con Mayor Número de Viajes')\n",
    "plt.xlabel('Número de Viajes')\n",
    "plt.ylabel('Empresa de Taxis')\n",
    "plt.show()"
   ]
  },
  {
   "cell_type": "markdown",
   "id": "d8584c76",
   "metadata": {},
   "source": [
    "Principales Compañías de Taxis: Las dos principales compañías con más viajes en los días 15 y 16 de noviembre de 2017 son Flash Cab y Taxi Affiliation Services, ya que realizaron más de 10,000 viajes en solo dos días. Esto indica que estas compañías son líderes en términos de volumen de viajes durante ese período."
   ]
  },
  {
   "cell_type": "markdown",
   "id": "b049bacc",
   "metadata": {},
   "source": [
    "\n",
    "# Prueba de Hipótesis"
   ]
  },
  {
   "cell_type": "markdown",
   "id": "8cc9553e",
   "metadata": {},
   "source": [
    "Primero, tomamos nuestros datos de viajes desde el Loop hasta el Aeropuerto Internacional O'Hare y los dividimos en dos grupos: días con condiciones climáticas buenas y días con condiciones climáticas malas.\n",
    "\n",
    "Luego, queremos saber si la duración promedio de los viajes es la misma en ambos grupos o si hay una diferencia significativa. Para hacer esto, realizamos una prueba estadística llamada prueba de Levene para verificar si las duraciones de los viajes tienen varianzas iguales o diferentes en ambos grupos.\n",
    "\n",
    "Si la prueba de Levene muestra que las varianzas son iguales (lo que significa que la duración de los viajes varía de manera similar en días con condiciones climáticas buenas y malas), usamos un método estadístico llamado prueba t de Student para comparar las duraciones de los viajes en ambos grupos.\n",
    "\n",
    "Si la prueba de Levene muestra que las varianzas son diferentes (lo que significa que la variabilidad en la duración de los viajes es diferente en días con condiciones climáticas buenas y malas), utilizamos una versión ajustada de la prueba t de Student que tiene en cuenta esta diferencia en la variabilidad.\n",
    "\n",
    "Al realizar estas pruebas estadísticas, podemos determinar si existe una diferencia significativa en la duración promedio de los viajes entre días con condiciones climáticas buenas y malas."
   ]
  },
  {
   "cell_type": "code",
   "execution_count": 27,
   "id": "6e1a3c73",
   "metadata": {},
   "outputs": [],
   "source": [
    "loop_good = loop[loop['weather_conditions'] == 'Good']\n",
    "loop_bad = loop[loop['weather_conditions'] == 'Bad']"
   ]
  },
  {
   "cell_type": "code",
   "execution_count": 28,
   "id": "a19fce2d",
   "metadata": {},
   "outputs": [
    {
     "name": "stdout",
     "output_type": "stream",
     "text": [
      "El valor p en el test de levene es: 0.9806770360671218\n",
      "No se rechaza la hipótesis nula\n"
     ]
    }
   ],
   "source": [
    "# se realiza el test de levene para realizar una prueba de igualdad de varianzas entre los dos grupos\n",
    "alpha= 0.05\n",
    "results = st.levene(loop_good['duration_seconds'], loop_bad['duration_seconds'])\n",
    "\n",
    "print('El valor p en el test de levene es:', results.pvalue)\n",
    "\n",
    "if results.pvalue < alpha:\n",
    "    print('Se rechaza la hipótesis nula')\n",
    "else:\n",
    "    print('No se rechaza la hipótesis nula')"
   ]
  },
  {
   "cell_type": "code",
   "execution_count": 29,
   "id": "69a706ba",
   "metadata": {},
   "outputs": [
    {
     "name": "stdout",
     "output_type": "stream",
     "text": [
      "El valor p es: 7.397770692813604e-08\n",
      "Se rechaza la hipótesis nula\n"
     ]
    }
   ],
   "source": [
    "# Se prueba las hipótesis\n",
    "# valor de alfa\n",
    "alpha= 0.05\n",
    "results_duration = st.ttest_ind(loop_good['duration_seconds'], loop_bad['duration_seconds'])\n",
    "\n",
    "print('El valor p es:', results_duration.pvalue)\n",
    "\n",
    "if results_duration.pvalue < alpha:\n",
    "    print('Se rechaza la hipótesis nula')\n",
    "else:\n",
    "    print('No se rechaza la hipótesis nula')"
   ]
  },
  {
   "cell_type": "code",
   "execution_count": 30,
   "id": "b12faed8",
   "metadata": {},
   "outputs": [
    {
     "name": "stdout",
     "output_type": "stream",
     "text": [
      "La duración promedio en buenas condiciones climáticas son 34 minutos.\n"
     ]
    }
   ],
   "source": [
    "#  promedio de duración con mean() para un buen clima\n",
    "weather_good_seg = loop_good['duration_seconds'].mean()\n",
    "weather_good_min = weather_good_seg / 60\n",
    "print(f'La duración promedio en buenas condiciones climáticas son {round(weather_good_min)} minutos.')"
   ]
  },
  {
   "cell_type": "code",
   "execution_count": 31,
   "id": "1fae4029",
   "metadata": {},
   "outputs": [
    {
     "name": "stdout",
     "output_type": "stream",
     "text": [
      "La duración promedio en malas condiciones climáticas son 40 minutos.\n"
     ]
    }
   ],
   "source": [
    "#  promedio de duración con mean() para un mal clima\n",
    "weather_bad_seg = loop_bad['duration_seconds'].mean()\n",
    "weather_bad_min = weather_bad_seg / 60\n",
    "print(f'La duración promedio en malas condiciones climáticas son {round(weather_bad_min)} minutos.')"
   ]
  },
  {
   "cell_type": "markdown",
   "id": "9b2fcdae",
   "metadata": {},
   "source": [
    "El resultado de nuestra prueba estadística sugiere que hay una diferencia significativa en la duración promedio de los viajes desde el Loop hasta el Aeropuerto Internacional O'Hare en días con condiciones climáticas buenas y malas. Esto significa que el clima parece influir en la duración de los viajes de taxi entre estas dos ubicaciones.\n",
    "\n",
    "\n",
    "\n",
    "\n",
    "\n"
   ]
  },
  {
   "cell_type": "markdown",
   "id": "fe03a4a5",
   "metadata": {},
   "source": [
    "Conclusión General\n",
    "\n",
    "Los días 16 y 17 de noviembre fueron populares para los servicios de taxi, especialmente con las compañías Flash Cab y Taxi Affiliation Services, que registraron un alto número de viajes: 19558 y 11422, respectivamente.\n",
    "\n",
    "Durante el mes de noviembre, el número promedio de viajes que terminaron principalmente en dos barrios de Chicago, Loop y River North, fue significativamente alto, con aproximadamente 10727.4 y 9523.6 viajes en promedio, respectivamente. Además, el Aeropuerto Internacional O'Hare ocupó el quinto lugar en el top 10 de barrios principales por número de finalizaciones de viajes.\n",
    "\n",
    "La duración promedio de los viajes desde el Loop hasta el Aeropuerto Internacional O'Hare difiere dependiendo de las condiciones climáticas. En promedio, los viajes durante días con condiciones climáticas buenas duraron alrededor de 34 minutos, mientras que durante días con condiciones climáticas malas duraron alrededor de 40 minutos.\n"
   ]
  }
 ],
 "metadata": {
  "kernelspec": {
   "display_name": "Python 3 (ipykernel)",
   "language": "python",
   "name": "python3"
  },
  "language_info": {
   "codemirror_mode": {
    "name": "ipython",
    "version": 3
   },
   "file_extension": ".py",
   "mimetype": "text/x-python",
   "name": "python",
   "nbconvert_exporter": "python",
   "pygments_lexer": "ipython3",
   "version": "3.12.4"
  },
  "toc": {
   "base_numbering": 1,
   "nav_menu": {},
   "number_sections": true,
   "sideBar": true,
   "skip_h1_title": true,
   "title_cell": "Table of Contents",
   "title_sidebar": "Contents",
   "toc_cell": false,
   "toc_position": {},
   "toc_section_display": true,
   "toc_window_display": false
  }
 },
 "nbformat": 4,
 "nbformat_minor": 5
}
